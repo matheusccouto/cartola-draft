{
 "cells": [
  {
   "cell_type": "markdown",
   "metadata": {},
   "source": [
    "# Genetic Algorithm"
   ]
  },
  {
   "cell_type": "markdown",
   "metadata": {},
   "source": [
    "## Hyperparams Optimization"
   ]
  },
  {
   "cell_type": "markdown",
   "metadata": {},
   "source": [
    "### Setup\n",
    "Change directory to the root folder to be able to import modules."
   ]
  },
  {
   "cell_type": "code",
   "execution_count": null,
   "metadata": {},
   "outputs": [],
   "source": [
    "import os\n",
    "\n",
    "THIS_FOLDER = os.path.dirname(os.path.realpath(\"__file__\"))\n",
    "ROOT_FOLDER = os.path.dirname(THIS_FOLDER)\n",
    "os.chdir(ROOT_FOLDER)"
   ]
  },
  {
   "cell_type": "markdown",
   "metadata": {},
   "source": [
    "### Load Players Data"
   ]
  },
  {
   "cell_type": "code",
   "execution_count": null,
   "metadata": {},
   "outputs": [],
   "source": [
    "from tests.helper import load_players\n",
    "\n",
    "players = load_players()\n",
    "print(f\"There are {len(players)} players in this set.\")"
   ]
  },
  {
   "cell_type": "markdown",
   "metadata": {},
   "source": [
    "### Metric\n",
    "Hyperparam needs a metric that reflects the goal.\n",
    "The goal is to have the algorithm running enough time to find the best result, but not longer than the minimum necessary."
   ]
  },
  {
   "cell_type": "code",
   "execution_count": null,
   "metadata": {},
   "outputs": [],
   "source": [
    "import numpy as np\n",
    "import seaborn as sns\n",
    "import pandas as pd\n",
    "\n",
    "\n",
    "def metric(points, time_elapsed):\n",
    "    \"\"\"Optimization metric.\"\"\"\n",
    "    return np.square(points) / np.sqrt(time_elapsed) / 1000\n",
    "\n",
    "\n",
    "points_series = pd.Series(np.linspace(start=10, stop=100, num=10), name=\"Points\")\n",
    "time_series = pd.Series(np.linspace(start=1, stop=10, num=10), name=\"Time Elapsed\")\n",
    "df = pd.merge(points_series, time_series, how=\"cross\")\n",
    "df[\"Metric\"] = metric(df[\"Points\"], df[\"Time Elapsed\"])\n",
    "sns.heatmap(df.pivot(index=\"Points\", columns=\"Time Elapsed\", values=\"Metric\"), cmap=\"Oranges\");\n"
   ]
  },
  {
   "cell_type": "markdown",
   "metadata": {},
   "source": [
    "### Tuning"
   ]
  },
  {
   "cell_type": "code",
   "execution_count": null,
   "metadata": {},
   "outputs": [],
   "source": [
    "import time\n",
    "\n",
    "import optuna\n",
    "import optuna.logging\n",
    "\n",
    "from cartola_draft import Scheme\n",
    "from cartola_draft.algorithm.genetic import Genetic\n",
    "from tests.helper import SCHEMES_COUNTING\n",
    "\n",
    "optuna.logging.set_verbosity(optuna.logging.ERROR)\n",
    "\n",
    "BUDGET = 100\n",
    "SCHEME = Scheme(SCHEMES_COUNTING[442])\n",
    "\n",
    "\n",
    "def algo_factory(\n",
    "    n_generations,\n",
    "    n_individuals,\n",
    "    tournament_size_ratio,\n",
    "    n_tournament_winners_ratio,\n",
    "    max_n_mutations,\n",
    "):\n",
    "    \"\"\"Create genetic algorithm insance.\"\"\"\n",
    "\n",
    "    tournament_size = tournament_size_ratio * n_individuals\n",
    "    tournament_size = int(np.clip(round(tournament_size, 0), 2, None))\n",
    "\n",
    "    n_tournament_winners = n_tournament_winners_ratio * tournament_size\n",
    "    n_tournament_winners = int(np.clip(round(n_tournament_winners, 0), 1, None))\n",
    "\n",
    "    return Genetic(\n",
    "        players=players,\n",
    "        n_generations=n_generations,\n",
    "        n_individuals=n_individuals,\n",
    "        tournament_size=tournament_size_ratio,\n",
    "        n_tournament_winners=n_tournament_winners_ratio,\n",
    "        max_n_mutations=max_n_mutations,\n",
    "    )\n",
    "\n",
    "\n",
    "def objective(trial):\n",
    "    \"\"\"Function to be optimized by optuna.\"\"\"\n",
    "\n",
    "    n_generations = trial.suggest_int(\"n_generations\", 100, 500)\n",
    "    n_individuals = trial.suggest_int(\"n_individuals\", 100, 1000)\n",
    "    tournament_size_ratio = trial.suggest_float(\"tournament_size_ratio\", 0.1, 1)\n",
    "    n_tournament_winners_ratio = trial.suggest_float(\"n_tournament_winners_ratio\", 0.1, 1)\n",
    "    max_n_mutations = trial.suggest_int(\"max_n_mutations\", 1, 12)\n",
    "\n",
    "    algo = algo_factory(\n",
    "        n_generations,\n",
    "        n_individuals,\n",
    "        tournament_size_ratio,\n",
    "        n_tournament_winners_ratio,\n",
    "        max_n_mutations,\n",
    "    )\n",
    "\n",
    "    n_times = 5\n",
    "\n",
    "    # Do it many times to avoid that variance bias the final decision.\n",
    "    start = time.time()\n",
    "    results = [algo.draft(BUDGET, SCHEME).points for _ in range(n_times)]\n",
    "    end = time.time()\n",
    "\n",
    "    # Discard largest and smallest value.\n",
    "    results = sorted(results)[1:-1]\n",
    "    points = np.mean(results)\n",
    "\n",
    "    time_elapsed = (end - start) / n_times\n",
    "\n",
    "    return metric(points, time_elapsed)\n",
    "\n",
    "\n",
    "study = optuna.create_study()\n",
    "study.optimize(objective, n_trials=100)\n",
    "\n",
    "study.best_params\n"
   ]
  },
  {
   "cell_type": "code",
   "execution_count": null,
   "metadata": {},
   "outputs": [],
   "source": [
    "algo = algo_factory(\n",
    "        study.best_params[\"n_generations\"],\n",
    "        study.best_params[\"n_individuals\"],\n",
    "        study.best_params[\"tournament_size_ratio\"],\n",
    "        study.best_params[\"n_tournament_winners_ratio\"],\n",
    "        study.best_params[\"max_n_mutations\"],\n",
    "    )\n",
    "print(f\"Points = {algo.draft(BUDGET, SCHEME).points}\")\n",
    "print(f\"Price = {algo.draft(BUDGET, SCHEME).price}\")"
   ]
  },
  {
   "cell_type": "markdown",
   "metadata": {},
   "source": [
    "### Analyze Results"
   ]
  },
  {
   "cell_type": "code",
   "execution_count": null,
   "metadata": {},
   "outputs": [],
   "source": [
    "import optuna.visualization\n",
    "\n",
    "fig = optuna.visualization.plot_optimization_history(study)\n",
    "fig.show()"
   ]
  },
  {
   "cell_type": "code",
   "execution_count": null,
   "metadata": {},
   "outputs": [],
   "source": [
    "fig = optuna.visualization.plot_param_importances(study)\n",
    "fig.show()"
   ]
  }
 ],
 "metadata": {
  "interpreter": {
   "hash": "a7a7e3d71afeb99357bfb90dfd501a0ebe342396ae45136c56e2f2783cc85c05"
  },
  "kernelspec": {
   "display_name": "Python 3.8.10 64-bit ('venv': venv)",
   "language": "python",
   "name": "python3"
  },
  "language_info": {
   "codemirror_mode": {
    "name": "ipython",
    "version": 3
   },
   "file_extension": ".py",
   "mimetype": "text/x-python",
   "name": "python",
   "nbconvert_exporter": "python",
   "pygments_lexer": "ipython3",
   "version": "3.8.10"
  },
  "orig_nbformat": 4
 },
 "nbformat": 4,
 "nbformat_minor": 2
}
