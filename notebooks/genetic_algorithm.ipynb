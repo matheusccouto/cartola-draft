{
 "cells": [
  {
   "cell_type": "markdown",
   "metadata": {},
   "source": [
    "# Genetic Algorithm"
   ]
  },
  {
   "cell_type": "markdown",
   "metadata": {},
   "source": [
    "## Hyperparams Optimization"
   ]
  },
  {
   "cell_type": "markdown",
   "metadata": {},
   "source": [
    "### Setup\n",
    "Change directory to the root folder to be able to import modules."
   ]
  },
  {
   "cell_type": "code",
   "execution_count": null,
   "metadata": {},
   "outputs": [],
   "source": [
    "import os\n",
    "\n",
    "THIS_FOLDER = os.path.dirname(os.path.realpath(\"__file__\"))\n",
    "ROOT_FOLDER = os.path.dirname(THIS_FOLDER)\n",
    "os.chdir(ROOT_FOLDER)"
   ]
  },
  {
   "cell_type": "markdown",
   "metadata": {},
   "source": [
    "### Load Players Data"
   ]
  },
  {
   "cell_type": "code",
   "execution_count": null,
   "metadata": {},
   "outputs": [],
   "source": [
    "from tests.helper import load_players\n",
    "\n",
    "players = load_players()\n",
    "print(f\"There are {len(players)} players in this set.\")"
   ]
  },
  {
   "cell_type": "markdown",
   "metadata": {},
   "source": [
    "### Metric\n",
    "Hyperparam needs a metric that reflects the goal.\n",
    "The goal is to have the algorithm running enough time to find the best result, but not longer than the minimum necessary.\n",
    "\n",
    "The 3D plot confirms that the metric is higher (darker) where points are higher, variance is lower and time elapsed is lower."
   ]
  },
  {
   "cell_type": "code",
   "execution_count": null,
   "metadata": {},
   "outputs": [],
   "source": [
    "import itertools\n",
    "\n",
    "import numpy as np\n",
    "import pandas as pd\n",
    "import plotly.express as px\n",
    "\n",
    "MAX_POINTS_MEAN = 125  # Approx. value extracted from max_value.ipynb\n",
    "MAX_STD_MEAN = 1\n",
    "MAX_TIME_ELAPSED = 1   # Seconds\n",
    "\n",
    "\n",
    "def metric(points_mean, points_std, time_elapsed):\n",
    "    \"\"\"Optimization metric.\"\"\"\n",
    "    return np.product(\n",
    "        (\n",
    "            np.sinh(points_mean / MAX_POINTS_MEAN),\n",
    "            np.tanh(MAX_STD_MEAN / points_std),\n",
    "            np.tanh(MAX_TIME_ELAPSED / time_elapsed),\n",
    "        ),\n",
    "        axis=0,\n",
    "    )\n",
    "\n",
    "\n",
    "points_mean_arr = np.linspace(start=MAX_POINTS_MEAN, stop=0, num=9, endpoint=False)\n",
    "points_std_arr = np.linspace(start=MAX_STD_MEAN, stop=0, num=9, endpoint=False)\n",
    "time_elapsed_arr = np.linspace(start=MAX_TIME_ELAPSED, stop=0, num=9, endpoint=False)\n",
    "\n",
    "# Cross product and transpose.\n",
    "data = zip(*itertools.product(points_mean_arr, points_std_arr, time_elapsed_arr))\n",
    "df = pd.DataFrame(data, index=[\"Points Mean\", \"Points Std\", \"Time Elapsed\"]).transpose()\n",
    "df[\"Metric\"] = metric(df[\"Points Mean\"], df[\"Points Std\"], df[\"Time Elapsed\"])\n",
    "\n",
    "fig = px.scatter_3d(\n",
    "    df,\n",
    "    x=\"Points Mean\",\n",
    "    y=\"Points Std\",\n",
    "    z=\"Time Elapsed\",\n",
    "    color=\"Metric\",\n",
    "    color_continuous_scale=px.colors.sequential.Oranges,\n",
    "    template=\"plotly_white\",\n",
    ")\n",
    "fig.update_traces(marker=dict(size=15, line=dict(width=0)))\n",
    "fig.update_layout(\n",
    "    scene=dict(\n",
    "        xaxis=dict(showbackground=False),\n",
    "        yaxis=dict(showbackground=False),\n",
    "        zaxis=dict(showbackground=False),\n",
    "    ),\n",
    ")\n",
    "fig.show()\n"
   ]
  },
  {
   "cell_type": "markdown",
   "metadata": {},
   "source": [
    "### Tuning"
   ]
  },
  {
   "cell_type": "code",
   "execution_count": null,
   "metadata": {},
   "outputs": [],
   "source": [
    "import time\n",
    "\n",
    "import optuna\n",
    "import optuna.logging\n",
    "\n",
    "from cartola_draft import Scheme\n",
    "from cartola_draft.algorithm.genetic import Genetic\n",
    "from tests.helper import SCHEMES_COUNTING\n",
    "\n",
    "optuna.logging.set_verbosity(optuna.logging.ERROR)\n",
    "\n",
    "BUDGET = 50\n",
    "SCHEME = Scheme(SCHEMES_COUNTING[433])\n",
    "\n",
    "\n",
    "def algo_factory(\n",
    "    n_generations,\n",
    "    n_individuals,\n",
    "    tournament_size_ratio,\n",
    "    n_tournament_winners_ratio,\n",
    "    max_n_mutations,\n",
    "):\n",
    "    \"\"\"Create genetic algorithm insance.\"\"\"\n",
    "\n",
    "    tournament_size = tournament_size_ratio * n_individuals\n",
    "    tournament_size = int(np.clip(round(tournament_size, 0), 2, n_individuals - 1))\n",
    "\n",
    "    n_tournament_winners = n_tournament_winners_ratio * tournament_size\n",
    "    n_tournament_winners = int(np.clip(round(n_tournament_winners, 0), 1, tournament_size))\n",
    "\n",
    "    return Genetic(\n",
    "        players=players,\n",
    "        n_generations=n_generations,\n",
    "        n_individuals=n_individuals,\n",
    "        tournament_size=tournament_size,\n",
    "        n_tournament_winners=n_tournament_winners,\n",
    "        max_n_mutations=max_n_mutations,\n",
    "    )\n",
    "\n",
    "\n",
    "def objective(trial):\n",
    "    \"\"\"Function to be optimized by optuna.\"\"\"\n",
    "\n",
    "    n_generations = trial.suggest_int(\"n_generations\", 8, 512)\n",
    "    n_individuals = trial.suggest_int(\"n_individuals\", 8, 512)\n",
    "    tournament_size_ratio = trial.suggest_float(\"tournament_size_ratio\", 0, 1)\n",
    "    n_tournament_winners_ratio = trial.suggest_float(\"n_tournament_winners_ratio\", 0, 1)\n",
    "    max_n_mutations = trial.suggest_int(\"max_n_mutations\", 1, 12)\n",
    "\n",
    "    algo = algo_factory(\n",
    "        n_generations,\n",
    "        n_individuals,\n",
    "        tournament_size_ratio,\n",
    "        n_tournament_winners_ratio,\n",
    "        max_n_mutations,\n",
    "    )\n",
    "\n",
    "    n_times = 10\n",
    "\n",
    "    # Do it many times to avoid variance bias the final decision.\n",
    "    start = time.time()\n",
    "    results = [algo.draft(BUDGET, SCHEME).points for _ in range(n_times)]\n",
    "    end = time.time()\n",
    "\n",
    "    time_elapsed = (end - start) / n_times\n",
    "\n",
    "    return metric(np.mean(results), np.std(results), time_elapsed)\n",
    "\n",
    "\n",
    "study = optuna.create_study(direction=\"maximize\")\n",
    "study.optimize(objective, n_trials=500, show_progress_bar=True)\n",
    "\n",
    "study.best_params"
   ]
  },
  {
   "cell_type": "code",
   "execution_count": null,
   "metadata": {},
   "outputs": [],
   "source": [
    "algo = algo_factory(\n",
    "        study.best_params[\"n_generations\"],\n",
    "        study.best_params[\"n_individuals\"],\n",
    "        study.best_params[\"tournament_size_ratio\"],\n",
    "        study.best_params[\"n_tournament_winners_ratio\"],\n",
    "        study.best_params[\"max_n_mutations\"],\n",
    "    )\n",
    "start = time.time()\n",
    "line_up = algo.draft(BUDGET, SCHEME)\n",
    "end = time.time()\n",
    "print(f\"Points = {line_up.points}\")\n",
    "print(f\"Price = {line_up.price}\")\n",
    "print(f\"Time = {end - start}\")"
   ]
  },
  {
   "cell_type": "markdown",
   "metadata": {},
   "source": [
    "### Analyze Results"
   ]
  },
  {
   "cell_type": "markdown",
   "metadata": {},
   "source": [
    "The next plot is used to check if there were enough trials to converge the objective value."
   ]
  },
  {
   "cell_type": "code",
   "execution_count": null,
   "metadata": {},
   "outputs": [],
   "source": [
    "import optuna.visualization\n",
    "\n",
    "fig = optuna.visualization.plot_optimization_history(study)\n",
    "fig.show()"
   ]
  },
  {
   "cell_type": "markdown",
   "metadata": {},
   "source": [
    "The importances plot helps tos understand which params really matters."
   ]
  },
  {
   "cell_type": "code",
   "execution_count": null,
   "metadata": {},
   "outputs": [],
   "source": [
    "fig = optuna.visualization.plot_param_importances(study)\n",
    "fig.show()"
   ]
  },
  {
   "cell_type": "markdown",
   "metadata": {},
   "source": [
    "The parallel coordinates plot can be confused at a first glance, but it is really helpfull to quick visualize if a params works better with higher or lower values."
   ]
  },
  {
   "cell_type": "code",
   "execution_count": null,
   "metadata": {},
   "outputs": [],
   "source": [
    "optuna.visualization.plot_parallel_coordinate(study)"
   ]
  }
 ],
 "metadata": {
  "interpreter": {
   "hash": "a7a7e3d71afeb99357bfb90dfd501a0ebe342396ae45136c56e2f2783cc85c05"
  },
  "kernelspec": {
   "display_name": "Python 3.8.10 64-bit ('venv': venv)",
   "language": "python",
   "name": "python3"
  },
  "language_info": {
   "codemirror_mode": {
    "name": "ipython",
    "version": 3
   },
   "file_extension": ".py",
   "mimetype": "text/x-python",
   "name": "python",
   "nbconvert_exporter": "python",
   "pygments_lexer": "ipython3",
   "version": "3.8.10"
  },
  "orig_nbformat": 4
 },
 "nbformat": 4,
 "nbformat_minor": 2
}
